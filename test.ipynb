{
 "cells": [
  {
   "cell_type": "code",
   "id": "initial_id",
   "metadata": {
    "collapsed": true,
    "ExecuteTime": {
     "end_time": "2025-10-15T22:34:45.217057Z",
     "start_time": "2025-10-15T22:34:44.911033Z"
    }
   },
   "source": [
    "import nnfs\n",
    "import numpy as np\n",
    "import pandas as pd\n",
    "from nnfs.datasets import vertical_data\n",
    "import NursNeuronLib as nn\n"
   ],
   "outputs": [],
   "execution_count": 1
  },
  {
   "metadata": {
    "ExecuteTime": {
     "end_time": "2025-10-15T22:34:45.223671Z",
     "start_time": "2025-10-15T22:34:45.220190Z"
    }
   },
   "cell_type": "code",
   "source": [
    "nnfs.init()\n",
    "\n",
    "X, y = vertical_data(samples = 100, classes = 3)"
   ],
   "id": "26988b34c45c9a93",
   "outputs": [],
   "execution_count": 2
  },
  {
   "metadata": {
    "ExecuteTime": {
     "end_time": "2025-10-15T22:34:45.330281Z",
     "start_time": "2025-10-15T22:34:45.326006Z"
    }
   },
   "cell_type": "code",
   "source": [
    "dense1 = nn.Dense(2,3)\n",
    "activation1 = nn.ActivationRelu()\n",
    "dense2 = nn.Dense(3, 3)\n",
    "activation2 = nn.ActivationSoftMax()\n",
    "\n",
    "loss_function = nn.Loss_CategoricalCrossentropy()"
   ],
   "id": "4d0729983ae484e",
   "outputs": [],
   "execution_count": 3
  },
  {
   "metadata": {
    "ExecuteTime": {
     "end_time": "2025-10-15T22:34:45.523729Z",
     "start_time": "2025-10-15T22:34:45.520105Z"
    }
   },
   "cell_type": "code",
   "source": [
    "lowest_loss = 9999999\n",
    "\n",
    "best_dense_weights1 = dense1.weights\n",
    "best_dense_biases1 = dense1.biases\n",
    "best_dense_weights2 = dense2.weights\n",
    "best_dense_biases2 = dense2.biases\n"
   ],
   "id": "10441def08277c34",
   "outputs": [],
   "execution_count": 4
  },
  {
   "metadata": {},
   "cell_type": "code",
   "source": [
    "for iteration in range(10000):\n",
    "    dense1.weights = 0.05 * np.random.randn(2, 3)\n",
    "    dense1.biases = 0.05 * np.random.randn(1, 3)\n",
    "    dense2.weights = 0.05 * np.random.randn(3, 3)\n",
    "    dense2.biases = 0.05 * np.random.randn(1, 3)\n",
    "    dense1.forward(X)\n",
    "    activation1.forward(dense1.output)\n",
    "    dense2.forward(activation1.output)\n",
    "    activation2.forward(dense2.output)\n",
    "    loss = loss_function.calculate(activation2.output, y)\n",
    "    predictions = np.argmax(activation2.output, axis=1)\n",
    "    accuracy = np.mean(predictions==y)\n",
    "    if loss < lowest_loss:\n",
    "        print('New set of weights found, iteration:', iteration,\n",
    "            'loss:', loss, 'acc:', accuracy)\n",
    "    best_dense1_weights = dense1.weights.copy()\n",
    "    best_dense1_biases = dense1.biases.copy()\n",
    "    best_dense2_weights = dense2.weights.copy()\n",
    "    best_dense2_biases = dense2.biases.copy()\n",
    "    lowest_loss = loss\n",
    "\n"
   ],
   "id": "69250a413fe76f1d",
   "outputs": [],
   "execution_count": null
  }
 ],
 "metadata": {
  "kernelspec": {
   "display_name": "Python 3",
   "language": "python",
   "name": "python3"
  },
  "language_info": {
   "codemirror_mode": {
    "name": "ipython",
    "version": 2
   },
   "file_extension": ".py",
   "mimetype": "text/x-python",
   "name": "python",
   "nbconvert_exporter": "python",
   "pygments_lexer": "ipython2",
   "version": "2.7.6"
  }
 },
 "nbformat": 4,
 "nbformat_minor": 5
}
